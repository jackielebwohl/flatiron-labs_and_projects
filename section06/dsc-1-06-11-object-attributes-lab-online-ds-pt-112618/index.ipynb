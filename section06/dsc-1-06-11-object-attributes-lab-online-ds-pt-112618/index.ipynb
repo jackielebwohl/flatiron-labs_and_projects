{
 "cells": [
  {
   "cell_type": "markdown",
   "metadata": {},
   "source": [
    "# Object Attributes - Lab"
   ]
  },
  {
   "cell_type": "markdown",
   "metadata": {},
   "source": [
    "## Introduction\n",
    "In this lab, we will practice defining classes and instance methods. We will also practice working with getter and setter (read and write) methods using properties and decorators to operate on instance variables."
   ]
  },
  {
   "cell_type": "markdown",
   "metadata": {},
   "source": [
    "## Objectives\n",
    "\n",
    "You will be able to:\n",
    "\n",
    "* Practice defining classes and instantiating instances of those classes\n",
    "* Practice defining instance methods"
   ]
  },
  {
   "cell_type": "markdown",
   "metadata": {},
   "source": [
    "## Defining Classes and Instance Methods"
   ]
  },
  {
   "cell_type": "markdown",
   "metadata": {},
   "source": [
    "In the cells below define a `Driver` class and define a `Passenger` class.\n",
    "\n",
    "Our driver instance objects should have instance variables for first name, last name, miles driven, and rating. We can name these instance variables `_first`, `_last` (short for first and last name), `_miles_driven`, and `_rating`. We will want to be able to access, change, and delete these values using the appropriate properties. \n",
    "\n",
    "After defining the above instance methods, define an instance method called `greet_passenger`, which returns the string `Hello! I'll be your driver today. My name is ` followed by that driver's first name and last name (i.e. `Hello! I'll be your driver today. My name is John Doe`)."
   ]
  },
  {
   "cell_type": "code",
   "execution_count": 145,
   "metadata": {},
   "outputs": [
    {
     "name": "stdout",
     "output_type": "stream",
     "text": [
      "[]\n"
     ]
    }
   ],
   "source": [
    "# Define Driver Class here with properties for each instance variable\n",
    "\n",
    "\n",
    "class Driver():\n",
    "    \n",
    "    \n",
    "    #Miles Driven\n",
    "    def set_miles_driven (self, amount):\n",
    "        self._miles_driven += amount\n",
    "    def get_miles_driven (self):\n",
    "        return f\"{self._first} has driven {self._miles_driven} miles total.\"\n",
    "     \n",
    "    miles_driven = property(get_miles_driven, set_miles_driven)\n",
    "    \n",
    "    \n",
    "   # def __init_first (self):\n",
    "       \n",
    "    def get_first (self):\n",
    "        return self._first\n",
    "    def set_first (self, first):\n",
    "        self._first = first\n",
    "    \n",
    "    first = property(get_first, set_first)\n",
    "    \n",
    "    def set_last (self, last):\n",
    "        self._last = last\n",
    "    def get_last (self):\n",
    "        return self._last\n",
    "    last = property(get_last, set_last)\n",
    "    \n",
    "   \n",
    "    def set_rating (self, rating):\n",
    "        rating_list.append(rating)\n",
    "        self._rating = sum(rating_list) / len(rating_list)\n",
    "        \n",
    "    def get_rating (self):\n",
    "        return f\"{self.first}'s new rating is {self._rating}.\"\n",
    "    rating = property(get_rating, set_rating)\n",
    "    \n",
    "    def greet_passenger (self):\n",
    "        print (f\"Hello! I'll be your driver today. My name is {self._first} {self._last}.\")\n",
    "\n",
    "rating_list = []        \n",
    "\n",
    "    \n",
    "\n",
    "print(rating_list)        \n",
    "\n"
   ]
  },
  {
   "cell_type": "code",
   "execution_count": 144,
   "metadata": {},
   "outputs": [
    {
     "name": "stdout",
     "output_type": "stream",
     "text": [
      "Rachel\n",
      "Jensen\n",
      "Rachel has driven 100 miles total.\n",
      "Rachel's new rating is 4.9.\n",
      "Hello! I'll be your driver today. My name is Rachel Jensen.\n",
      "Rachel has driven 300 miles total.\n",
      "Rachel's new rating is 2.95.\n",
      "[4.9, 1]\n"
     ]
    }
   ],
   "source": [
    "driver = make_new_driver()\n",
    "driver.first = \"Rachel\"\n",
    "driver.last = \"Jensen\"\n",
    "driver.miles_driven=100\n",
    "driver.rating = 4.9\n",
    "print(driver.first) # \"Rachel\"\n",
    "print(driver.last) # \"Jensen\"\n",
    "print(driver.miles_driven) # 100\n",
    "print(driver.rating) # 4.9\n",
    "driver.greet_passenger() # Hello! I'll be your driver today. My name is Rachel Jensen\n",
    "driver.miles_driven=200\n",
    "\n",
    "print(driver.miles_driven)\n",
    "driver.rating= 1\n",
    "print(driver.rating)\n",
    "print(rating_list)"
   ]
  },
  {
   "cell_type": "markdown",
   "metadata": {},
   "source": [
    "In the `Passenger` class, we will want our passenger instance objects to have the attributes first name, last name, and email. Let's continue using the leading underscore naming convention we employed in our `Driver` class and name these instance variables `_first`, `_last`, and `_email`. Define the appropriate instance methods using property and the appropriate decorators for reading (getting), writing (setting), and deleting instance variables. \n",
    "\n",
    "Next, we want to define an instance method called `yell_name` which returns a string with the passengers name in all caps (i.e. \"RON BURGUNDY\"). "
   ]
  },
  {
   "cell_type": "code",
   "execution_count": 133,
   "metadata": {},
   "outputs": [],
   "source": [
    "# Define Passenger Class here with properties for each instance variable\n",
    "class Passenger():\n",
    "   \n",
    "    def yell_name(self):\n",
    "        print(f\"{self._first} {self._last}\".upper())\n",
    "    \n",
    "    def get_first (self):\n",
    "        return self._first\n",
    "    def set_first (self, first):\n",
    "        self._first = first\n",
    "    first = property(get_first, set_first)\n",
    "    \n",
    "    def set_last (self, last):\n",
    "        self._last = last\n",
    "    def get_last (self):\n",
    "        return self._last\n",
    "    last = property(get_last, set_last)\n",
    "    \n",
    "    def set_email (self, email):\n",
    "        self._email = email \n",
    "    def get_email (self):\n",
    "        return self._email\n",
    "    email = property(get_email, set_email)\n",
    "    "
   ]
  },
  {
   "cell_type": "code",
   "execution_count": 134,
   "metadata": {},
   "outputs": [
    {
     "name": "stdout",
     "output_type": "stream",
     "text": [
      "Ron\n",
      "Burgundy\n",
      "ron.burgundy1984@gmail.com\n",
      "RON BURGUNDY\n"
     ]
    }
   ],
   "source": [
    "passenger = Passenger()\n",
    "passenger.first = \"Ron\"\n",
    "passenger.last = \"Burgundy\"\n",
    "passenger.email = \"ron.burgundy1984@gmail.com\"\n",
    "print(passenger.first) # \"Ron\"\n",
    "print(passenger.last) # \"Burgundy\"\n",
    "print(passenger.email) # \"ron.burgundy1984@gmail.com\"\n",
    "passenger.yell_name() # \"RON BURGUNDY\""
   ]
  },
  {
   "cell_type": "markdown",
   "metadata": {},
   "source": [
    "Great work!"
   ]
  },
  {
   "cell_type": "markdown",
   "metadata": {},
   "source": [
    "## Summary\n",
    "In this lab, we practiced defining classes, instance methods, and utilizing the property function to create, getter setter, and deleter properties so we could access and operate on our instance variables."
   ]
  }
 ],
 "metadata": {
  "kernelspec": {
   "display_name": "Python 3",
   "language": "python",
   "name": "python3"
  },
  "language_info": {
   "codemirror_mode": {
    "name": "ipython",
    "version": 3
   },
   "file_extension": ".py",
   "mimetype": "text/x-python",
   "name": "python",
   "nbconvert_exporter": "python",
   "pygments_lexer": "ipython3",
   "version": "3.6.6"
  }
 },
 "nbformat": 4,
 "nbformat_minor": 2
}
